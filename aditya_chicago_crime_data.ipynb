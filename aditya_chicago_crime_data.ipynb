{
 "cells": [
  {
   "cell_type": "code",
   "execution_count": 1,
   "metadata": {},
   "outputs": [],
   "source": [
    "import pandas as pd\n",
    "crime_data = pd.read_csv('Chicago_crime.csv')"
   ]
  },
  {
   "cell_type": "code",
   "execution_count": 2,
   "metadata": {},
   "outputs": [
    {
     "data": {
      "text/html": [
       "<div>\n",
       "<style scoped>\n",
       "    .dataframe tbody tr th:only-of-type {\n",
       "        vertical-align: middle;\n",
       "    }\n",
       "\n",
       "    .dataframe tbody tr th {\n",
       "        vertical-align: top;\n",
       "    }\n",
       "\n",
       "    .dataframe thead th {\n",
       "        text-align: right;\n",
       "    }\n",
       "</style>\n",
       "<table border=\"1\" class=\"dataframe\">\n",
       "  <thead>\n",
       "    <tr style=\"text-align: right;\">\n",
       "      <th></th>\n",
       "      <th>ID</th>\n",
       "      <th>Case Number</th>\n",
       "      <th>Date</th>\n",
       "      <th>Block</th>\n",
       "      <th>IUCR</th>\n",
       "      <th>Primary Type</th>\n",
       "      <th>Description</th>\n",
       "      <th>Location Description</th>\n",
       "      <th>Arrest</th>\n",
       "      <th>Domestic</th>\n",
       "      <th>...</th>\n",
       "      <th>Ward</th>\n",
       "      <th>Community Area</th>\n",
       "      <th>FBI Code</th>\n",
       "      <th>X Coordinate</th>\n",
       "      <th>Y Coordinate</th>\n",
       "      <th>Year</th>\n",
       "      <th>Updated On</th>\n",
       "      <th>Latitude</th>\n",
       "      <th>Longitude</th>\n",
       "      <th>Location</th>\n",
       "    </tr>\n",
       "  </thead>\n",
       "  <tbody>\n",
       "    <tr>\n",
       "      <th>0</th>\n",
       "      <td>2746413</td>\n",
       "      <td>HJ384532</td>\n",
       "      <td>05/20/2003 08:00:00 PM</td>\n",
       "      <td>072XX S FAIRFIELD AVE</td>\n",
       "      <td>0610</td>\n",
       "      <td>BURGLARY</td>\n",
       "      <td>FORCIBLE ENTRY</td>\n",
       "      <td>RESIDENCE</td>\n",
       "      <td>False</td>\n",
       "      <td>False</td>\n",
       "      <td>...</td>\n",
       "      <td>18.0</td>\n",
       "      <td>66.0</td>\n",
       "      <td>05</td>\n",
       "      <td>1159293.0</td>\n",
       "      <td>1856544.0</td>\n",
       "      <td>2003</td>\n",
       "      <td>02/28/2018 03:56:25 PM</td>\n",
       "      <td>41.762076</td>\n",
       "      <td>-87.691736</td>\n",
       "      <td>(41.762075613, -87.691735556)</td>\n",
       "    </tr>\n",
       "    <tr>\n",
       "      <th>1</th>\n",
       "      <td>2746414</td>\n",
       "      <td>HJ385055</td>\n",
       "      <td>05/24/2003 09:25:00 PM</td>\n",
       "      <td>015XX W ROOSEVELT RD</td>\n",
       "      <td>0420</td>\n",
       "      <td>BATTERY</td>\n",
       "      <td>AGGRAVATED:KNIFE/CUTTING INSTR</td>\n",
       "      <td>SIDEWALK</td>\n",
       "      <td>False</td>\n",
       "      <td>False</td>\n",
       "      <td>...</td>\n",
       "      <td>2.0</td>\n",
       "      <td>28.0</td>\n",
       "      <td>04B</td>\n",
       "      <td>1166352.0</td>\n",
       "      <td>1894784.0</td>\n",
       "      <td>2003</td>\n",
       "      <td>02/28/2018 03:56:25 PM</td>\n",
       "      <td>41.866863</td>\n",
       "      <td>-87.664773</td>\n",
       "      <td>(41.866863003, -87.664772948)</td>\n",
       "    </tr>\n",
       "    <tr>\n",
       "      <th>2</th>\n",
       "      <td>2746415</td>\n",
       "      <td>HJ384304</td>\n",
       "      <td>05/24/2003 01:10:00 PM</td>\n",
       "      <td>062XX S CLAREMONT AVE</td>\n",
       "      <td>031A</td>\n",
       "      <td>ROBBERY</td>\n",
       "      <td>ARMED: HANDGUN</td>\n",
       "      <td>STREET</td>\n",
       "      <td>False</td>\n",
       "      <td>False</td>\n",
       "      <td>...</td>\n",
       "      <td>15.0</td>\n",
       "      <td>66.0</td>\n",
       "      <td>03</td>\n",
       "      <td>1161795.0</td>\n",
       "      <td>1863307.0</td>\n",
       "      <td>2003</td>\n",
       "      <td>02/28/2018 03:56:25 PM</td>\n",
       "      <td>41.780583</td>\n",
       "      <td>-87.682378</td>\n",
       "      <td>(41.78058266, -87.682377751)</td>\n",
       "    </tr>\n",
       "    <tr>\n",
       "      <th>3</th>\n",
       "      <td>2746416</td>\n",
       "      <td>HJ384255</td>\n",
       "      <td>05/24/2003 02:00:00 PM</td>\n",
       "      <td>031XX N CLARK ST</td>\n",
       "      <td>0860</td>\n",
       "      <td>THEFT</td>\n",
       "      <td>RETAIL THEFT</td>\n",
       "      <td>SMALL RETAIL STORE</td>\n",
       "      <td>True</td>\n",
       "      <td>False</td>\n",
       "      <td>...</td>\n",
       "      <td>44.0</td>\n",
       "      <td>6.0</td>\n",
       "      <td>06</td>\n",
       "      <td>1170274.0</td>\n",
       "      <td>1920971.0</td>\n",
       "      <td>2003</td>\n",
       "      <td>02/28/2018 03:56:25 PM</td>\n",
       "      <td>41.938637</td>\n",
       "      <td>-87.649609</td>\n",
       "      <td>(41.938636968, -87.64960867)</td>\n",
       "    </tr>\n",
       "    <tr>\n",
       "      <th>4</th>\n",
       "      <td>2746418</td>\n",
       "      <td>HJ385442</td>\n",
       "      <td>05/25/2003 02:22:00 AM</td>\n",
       "      <td>031XX N BROADWAY</td>\n",
       "      <td>0810</td>\n",
       "      <td>THEFT</td>\n",
       "      <td>OVER $500</td>\n",
       "      <td>STREET</td>\n",
       "      <td>False</td>\n",
       "      <td>False</td>\n",
       "      <td>...</td>\n",
       "      <td>44.0</td>\n",
       "      <td>6.0</td>\n",
       "      <td>06</td>\n",
       "      <td>1171708.0</td>\n",
       "      <td>1920869.0</td>\n",
       "      <td>2003</td>\n",
       "      <td>02/28/2018 03:56:25 PM</td>\n",
       "      <td>41.938326</td>\n",
       "      <td>-87.644341</td>\n",
       "      <td>(41.938325571, -87.644341433)</td>\n",
       "    </tr>\n",
       "  </tbody>\n",
       "</table>\n",
       "<p>5 rows × 22 columns</p>\n",
       "</div>"
      ],
      "text/plain": [
       "        ID Case Number                    Date                  Block  IUCR  \\\n",
       "0  2746413    HJ384532  05/20/2003 08:00:00 PM  072XX S FAIRFIELD AVE  0610   \n",
       "1  2746414    HJ385055  05/24/2003 09:25:00 PM   015XX W ROOSEVELT RD  0420   \n",
       "2  2746415    HJ384304  05/24/2003 01:10:00 PM  062XX S CLAREMONT AVE  031A   \n",
       "3  2746416    HJ384255  05/24/2003 02:00:00 PM       031XX N CLARK ST  0860   \n",
       "4  2746418    HJ385442  05/25/2003 02:22:00 AM       031XX N BROADWAY  0810   \n",
       "\n",
       "  Primary Type                     Description Location Description  Arrest  \\\n",
       "0     BURGLARY                  FORCIBLE ENTRY            RESIDENCE   False   \n",
       "1      BATTERY  AGGRAVATED:KNIFE/CUTTING INSTR             SIDEWALK   False   \n",
       "2      ROBBERY                  ARMED: HANDGUN               STREET   False   \n",
       "3        THEFT                    RETAIL THEFT   SMALL RETAIL STORE    True   \n",
       "4        THEFT                       OVER $500               STREET   False   \n",
       "\n",
       "   Domestic  ...  Ward  Community Area  FBI Code  X Coordinate Y Coordinate  \\\n",
       "0     False  ...  18.0            66.0        05     1159293.0    1856544.0   \n",
       "1     False  ...   2.0            28.0       04B     1166352.0    1894784.0   \n",
       "2     False  ...  15.0            66.0        03     1161795.0    1863307.0   \n",
       "3     False  ...  44.0             6.0        06     1170274.0    1920971.0   \n",
       "4     False  ...  44.0             6.0        06     1171708.0    1920869.0   \n",
       "\n",
       "   Year              Updated On   Latitude  Longitude  \\\n",
       "0  2003  02/28/2018 03:56:25 PM  41.762076 -87.691736   \n",
       "1  2003  02/28/2018 03:56:25 PM  41.866863 -87.664773   \n",
       "2  2003  02/28/2018 03:56:25 PM  41.780583 -87.682378   \n",
       "3  2003  02/28/2018 03:56:25 PM  41.938637 -87.649609   \n",
       "4  2003  02/28/2018 03:56:25 PM  41.938326 -87.644341   \n",
       "\n",
       "                        Location  \n",
       "0  (41.762075613, -87.691735556)  \n",
       "1  (41.866863003, -87.664772948)  \n",
       "2   (41.78058266, -87.682377751)  \n",
       "3   (41.938636968, -87.64960867)  \n",
       "4  (41.938325571, -87.644341433)  \n",
       "\n",
       "[5 rows x 22 columns]"
      ]
     },
     "execution_count": 2,
     "metadata": {},
     "output_type": "execute_result"
    }
   ],
   "source": [
    "crime_data.head()"
   ]
  },
  {
   "cell_type": "code",
   "execution_count": null,
   "metadata": {},
   "outputs": [],
   "source": [
    "crime_data.dtypes\n"
   ]
  },
  {
   "cell_type": "code",
   "execution_count": null,
   "metadata": {},
   "outputs": [],
   "source": [
    "crime_data.shape"
   ]
  },
  {
   "cell_type": "code",
   "execution_count": null,
   "metadata": {},
   "outputs": [],
   "source": []
  },
  {
   "cell_type": "markdown",
   "metadata": {},
   "source": [
    " ### Graphs \n",
    " \n",
    " #### Graph 1 : %crimes by location description (10 most common locations) \n",
    " #### Graph 2 : %crimes by crime type (10 most common crime types) \n",
    " #### Graph 3 : %crimes by Description \n",
    " #### Graph 4 : Most common Locations based on type of crime for top ten highest occuring crimes\n",
    " #### Graph 6: Top ten places that an arrest is likely to occur in Chicago\n",
    " #### Graph 7 : Number of crimes by year for top 10 crime types"
   ]
  },
  {
   "cell_type": "code",
   "execution_count": null,
   "metadata": {},
   "outputs": [],
   "source": [
    "# Graph 1 : %crimes by location description (10 most common locations) \n",
    "\n",
    "import matplotlib.pyplot as plt\n",
    "%matplotlib inline\n",
    "percent = crime_data['Location Description'].value_counts(normalize=True).apply(lambda x: 100*x)[:15]\n",
    "fig = plt.figure(figsize=(10,6)) \n",
    "ax = fig.gca()     \n",
    "percent.plot.bar(ax = ax) \n",
    "ax.set_title('Percentage of crimes by Location Description for 15 most common locations') \n",
    "ax.set_xlabel('Location Description')\n",
    "ax.set_ylabel('Percentage of Crimes')\n"
   ]
  },
  {
   "cell_type": "code",
   "execution_count": null,
   "metadata": {},
   "outputs": [],
   "source": [
    "# Graph 2 : %crimes by crime type (10 most common crime types) \n",
    "percent = crime_data['Primary Type'].value_counts(normalize=True).apply(lambda x: 100*x)[:15]\n",
    "fig = plt.figure(figsize=(10,6)) \n",
    "ax = fig.gca()     \n",
    "percent.plot.bar(ax = ax) \n",
    "ax.set_title('Percentage of crimes by Primary Type for 15 most common types') \n",
    "ax.set_xlabel('Primary type of Crime')\n",
    "ax.set_ylabel('Percentage of Crimes')"
   ]
  },
  {
   "cell_type": "code",
   "execution_count": null,
   "metadata": {},
   "outputs": [],
   "source": [
    "# Graph 3 : %crimes by Description \n",
    "\n",
    "percent = crime_data['Description'].value_counts(normalize=True).apply(lambda x: 100*x)[:15]\n",
    "fig = plt.figure(figsize=(10,6)) \n",
    "ax = fig.gca()     \n",
    "percent.plot.bar(ax = ax) \n",
    "ax.set_title('Percentage of crimes by Description for 15 most common Descriptions') \n",
    "ax.set_xlabel('Crime Descrption')\n",
    "ax.set_ylabel('Percentage of Crimes')"
   ]
  },
  {
   "cell_type": "code",
   "execution_count": null,
   "metadata": {},
   "outputs": [],
   "source": [
    "# Graph 4 : Most common Locations based on type of crime for top ten highest occuring crimes\n",
    "import numpy as np\n",
    "import seaborn as sns\n",
    "location_by_type  = crime_data.pivot_table(values='ID', index='Location Description', columns='Primary Type', aggfunc=np.size).fillna(0)\n",
    "columns =  location_by_type.sum().sort_values(ascending=False).keys()[:5]\n",
    "\n",
    "def plot_pivot_location_by_type(pivot_table,row):\n",
    "    fig = plt.figure(figsize=(10,6)) \n",
    "    ax = fig.gca()\n",
    "    pivot_table[row].sort_values(ascending= False)[:10].plot(kind='barh').legend()\n",
    "   \n",
    "\n",
    "for col in columns:\n",
    "    plot_pivot_location_by_type(location_by_type,col)\n",
    "\n",
    "\n",
    "    "
   ]
  },
  {
   "cell_type": "code",
   "execution_count": null,
   "metadata": {},
   "outputs": [],
   "source": [
    "#Graph 6: Top ten places that an arrest is likely to occur in Chicago\n",
    "foo = crime_data[['Location Description','Arrest']].groupby('Location Description').sum(axis=1).sort_values(by = 'Arrest',ascending = False)[:10]\n",
    "foo.plot(kind='barh')\n"
   ]
  },
  {
   "cell_type": "code",
   "execution_count": null,
   "metadata": {},
   "outputs": [],
   "source": []
  },
  {
   "cell_type": "code",
   "execution_count": null,
   "metadata": {},
   "outputs": [],
   "source": [
    "# Graph 7 : Number of crimes by year for top 10 crime types\n",
    "year = crime_data['Year']\n",
    "arrests_by_year_type = crime_data[crime_data['Year']>2015]\n",
    "arrests_by_year_type = arrests_by_year_type.pivot_table('Arrest',index = 'Year',columns = 'Primary Type',aggfunc=np.size)\n",
    "columns =  arrests_by_year_type.sum().sort_values(ascending=False).keys()[:5]\n",
    "\n",
    "def plot_pivot_location_by_type(pivot_table,row):\n",
    "    fig = plt.figure(figsize=(10,6)) \n",
    "    ax = fig.gca()\n",
    "    pivot_table[[row]].sort_values(ascending= False)[:10].plot(kind='barh')\n",
    "\n",
    "for col in columns:\n",
    "    plot_pivot_location_by_type(arrests_by_year_type.unstack(),col)\n",
    "\n",
    "data:image/png;base64,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\n",
    "\n"
   ]
  },
  {
   "cell_type": "markdown",
   "metadata": {},
   "source": [
    "### Data Processing"
   ]
  },
  {
   "cell_type": "code",
   "execution_count": 2,
   "metadata": {},
   "outputs": [],
   "source": [
    "# Converting 'Date' to datetime format\n",
    "date_format = '%m/%d/%Y %I:%M:%S %p'\n",
    "crime_data['Date'] = pd.to_datetime(crime_data['Date'].astype(str), format =date_format)"
   ]
  },
  {
   "cell_type": "code",
   "execution_count": 3,
   "metadata": {},
   "outputs": [],
   "source": [
    "#picking Primary Types with > 5000 samples\n",
    "primary_type = crime_data['Primary Type'].value_counts()[:23].keys()\n",
    "crime_data = crime_data.loc[crime_data['Primary Type'].isin(primary_type)] "
   ]
  },
  {
   "cell_type": "code",
   "execution_count": 4,
   "metadata": {},
   "outputs": [],
   "source": [
    "# picking  Descriptions with > 5000 samples\n",
    "description = crime_data['Description'].value_counts()[:98].keys()\n",
    "crime_data = crime_data.loc[crime_data['Description'].isin(description)] \n"
   ]
  },
  {
   "cell_type": "code",
   "execution_count": 5,
   "metadata": {},
   "outputs": [],
   "source": [
    "# picking Location Descriptions with > 5000 samples\n",
    "location_description = crime_data['Location Description'].value_counts()[:58].keys()\n",
    "crime_data = crime_data.loc[crime_data['Location Description'].isin(location_description)] \n",
    "\n"
   ]
  },
  {
   "cell_type": "code",
   "execution_count": 6,
   "metadata": {},
   "outputs": [
    {
     "name": "stdout",
     "output_type": "stream",
     "text": [
      "number of categorical features by category\n",
      "District : 24\n",
      "Description : 98\n",
      "Location Description : 58\n"
     ]
    }
   ],
   "source": [
    "#We now have fewer categories for each categorical column, so we can reliably encode them \n",
    "#Using one-hot encoding\n",
    "\n",
    "#checking number of features by category\n",
    "categorical = ['District','Description','Location Description']\n",
    "\n",
    "print('number of categorical features by category')\n",
    "for cat in categorical:    \n",
    "    print(cat + \" : \"+ str(len(crime_data[cat].value_counts())) )\n",
    "\n"
   ]
  },
  {
   "cell_type": "code",
   "execution_count": 7,
   "metadata": {},
   "outputs": [],
   "source": [
    "#Encoding categorical features\n",
    "categorical = ['District','Description','Location Description']\n",
    "prefixes =  ['District_','Description_','Location Description_']\n",
    "crime_data = pd.get_dummies(crime_data, columns= categorical, prefix = prefixes)\n",
    "\n"
   ]
  },
  {
   "cell_type": "code",
   "execution_count": 8,
   "metadata": {},
   "outputs": [],
   "source": [
    "# Feature Selection\n",
    "\n",
    "unused = ['Beat','Community Area','Case Number','District','FBI Code','ID','Location','Updated On','Ward']\n",
    "crime_data = crime_data[[col for col in crime_data if (col not in unused)]]\n",
    "\n"
   ]
  },
  {
   "cell_type": "code",
   "execution_count": 9,
   "metadata": {},
   "outputs": [
    {
     "data": {
      "text/plain": [
       "Date                0\n",
       "Block               0\n",
       "IUCR                0\n",
       "Primary Type        0\n",
       "Arrest              0\n",
       "Domestic            0\n",
       "X Coordinate    55055\n",
       "Y Coordinate    55055\n",
       "Year                0\n",
       "Latitude        55055\n",
       "Longitude       55055\n",
       "dtype: int64"
      ]
     },
     "execution_count": 9,
     "metadata": {},
     "output_type": "execute_result"
    }
   ],
   "source": [
    "crime_data.isna().sum()[:11]"
   ]
  },
  {
   "cell_type": "code",
   "execution_count": 12,
   "metadata": {},
   "outputs": [],
   "source": [
    "# At this point there are 4 features with Nan values [Latitude, Longitude, X-coordinate, Y- coordinate ]\n",
    "# All of the Nans appear in the same 55055 rows, so we can simply drop them\n",
    "\n",
    "crime_data.dropna(inplace=True)\n"
   ]
  },
  {
   "cell_type": "code",
   "execution_count": 13,
   "metadata": {},
   "outputs": [
    {
     "data": {
      "text/plain": [
       "(6486635, 191)"
      ]
     },
     "execution_count": 13,
     "metadata": {},
     "output_type": "execute_result"
    }
   ],
   "source": [
    "#So many features! And we didn't have to get rid of many rows (<100,000)\n",
    "crime_data.shape"
   ]
  },
  {
   "cell_type": "markdown",
   "metadata": {},
   "source": [
    "### Models"
   ]
  },
  {
   "cell_type": "code",
   "execution_count": 3,
   "metadata": {},
   "outputs": [],
   "source": [
    "from sklearn.model_selection import train_test_split, learning_curve\n",
    "from sklearn import metrics\n",
    "# Model Functions \n",
    "def evaluate_model(model,X_test,y_test):\n",
    "    y_predicted = model.predict(X_test)\n",
    "    model_score = model.score(X_test,y_test) \n",
    "    recall_score = metrics.recall_score(y_test,y_predicted)\n",
    "    accuracy_score = metrics.accuracy_score(y_test,y_predicted)\n",
    "    precision_score = metrics.precision_score(y_test,y_predicted)   \n",
    "    \n",
    "    print('model score : ' + str(model_score) )\n",
    "    print('accuracy score : ' + str(accuracy_score))\n",
    "    print('precision score : ' + str(precision_score)  )\n",
    "    print('recall score : ' + str(recall_score))\n",
    "    print(metrics.confusion_matrix(y_test,y_predicted))\n",
    "\n",
    "def test_model(model,features):\n",
    "    X = crime_data[features]\n",
    "    y = crime_data['Primary Type']\n",
    "    X_train, X_test, y_train, y_test = train_test_split(X, y, random_state=1)\n",
    "    model.fit(X_train,y_train)\n",
    "    evaluate_model(model,X_test,y_test)   "
   ]
  },
  {
   "cell_type": "code",
   "execution_count": 4,
   "metadata": {},
   "outputs": [
    {
     "ename": "ValueError",
     "evalue": "could not convert string to float: 'HH232735'",
     "output_type": "error",
     "traceback": [
      "\u001b[0;31m---------------------------------------------------------------------------\u001b[0m",
      "\u001b[0;31mValueError\u001b[0m                                Traceback (most recent call last)",
      "\u001b[0;32m<ipython-input-4-c861fb032229>\u001b[0m in \u001b[0;36m<module>\u001b[0;34m\u001b[0m\n\u001b[1;32m      6\u001b[0m \u001b[0;34m\u001b[0m\u001b[0m\n\u001b[1;32m      7\u001b[0m \u001b[0mbayes_classifier\u001b[0m \u001b[0;34m=\u001b[0m \u001b[0mnaive_bayes\u001b[0m\u001b[0;34m.\u001b[0m\u001b[0mMultinomialNB\u001b[0m\u001b[0;34m(\u001b[0m\u001b[0;34m)\u001b[0m\u001b[0;34m\u001b[0m\u001b[0;34m\u001b[0m\u001b[0m\n\u001b[0;32m----> 8\u001b[0;31m \u001b[0mtest_model\u001b[0m\u001b[0;34m(\u001b[0m\u001b[0mbayes_classifier\u001b[0m\u001b[0;34m,\u001b[0m\u001b[0mfeatures\u001b[0m\u001b[0;34m)\u001b[0m\u001b[0;34m\u001b[0m\u001b[0;34m\u001b[0m\u001b[0m\n\u001b[0m",
      "\u001b[0;32m<ipython-input-3-6fb6904cdb69>\u001b[0m in \u001b[0;36mtest_model\u001b[0;34m(model, features)\u001b[0m\n\u001b[1;32m     19\u001b[0m     \u001b[0my\u001b[0m \u001b[0;34m=\u001b[0m \u001b[0mcrime_data\u001b[0m\u001b[0;34m[\u001b[0m\u001b[0;34m'Primary Type'\u001b[0m\u001b[0;34m]\u001b[0m\u001b[0;34m\u001b[0m\u001b[0;34m\u001b[0m\u001b[0m\n\u001b[1;32m     20\u001b[0m     \u001b[0mX_train\u001b[0m\u001b[0;34m,\u001b[0m \u001b[0mX_test\u001b[0m\u001b[0;34m,\u001b[0m \u001b[0my_train\u001b[0m\u001b[0;34m,\u001b[0m \u001b[0my_test\u001b[0m \u001b[0;34m=\u001b[0m \u001b[0mtrain_test_split\u001b[0m\u001b[0;34m(\u001b[0m\u001b[0mX\u001b[0m\u001b[0;34m,\u001b[0m \u001b[0my\u001b[0m\u001b[0;34m,\u001b[0m \u001b[0mrandom_state\u001b[0m\u001b[0;34m=\u001b[0m\u001b[0;36m1\u001b[0m\u001b[0;34m)\u001b[0m\u001b[0;34m\u001b[0m\u001b[0;34m\u001b[0m\u001b[0m\n\u001b[0;32m---> 21\u001b[0;31m     \u001b[0mmodel\u001b[0m\u001b[0;34m.\u001b[0m\u001b[0mfit\u001b[0m\u001b[0;34m(\u001b[0m\u001b[0mX_train\u001b[0m\u001b[0;34m,\u001b[0m\u001b[0my_train\u001b[0m\u001b[0;34m)\u001b[0m\u001b[0;34m\u001b[0m\u001b[0;34m\u001b[0m\u001b[0m\n\u001b[0m\u001b[1;32m     22\u001b[0m     \u001b[0mevaluate_model\u001b[0m\u001b[0;34m(\u001b[0m\u001b[0mmodel\u001b[0m\u001b[0;34m,\u001b[0m\u001b[0mX_test\u001b[0m\u001b[0;34m,\u001b[0m\u001b[0my_test\u001b[0m\u001b[0;34m)\u001b[0m\u001b[0;34m\u001b[0m\u001b[0;34m\u001b[0m\u001b[0m\n",
      "\u001b[0;32m/usr/local/lib/python3.7/site-packages/sklearn/naive_bayes.py\u001b[0m in \u001b[0;36mfit\u001b[0;34m(self, X, y, sample_weight)\u001b[0m\n\u001b[1;32m    583\u001b[0m         \u001b[0mself\u001b[0m \u001b[0;34m:\u001b[0m \u001b[0mobject\u001b[0m\u001b[0;34m\u001b[0m\u001b[0;34m\u001b[0m\u001b[0m\n\u001b[1;32m    584\u001b[0m         \"\"\"\n\u001b[0;32m--> 585\u001b[0;31m         \u001b[0mX\u001b[0m\u001b[0;34m,\u001b[0m \u001b[0my\u001b[0m \u001b[0;34m=\u001b[0m \u001b[0mcheck_X_y\u001b[0m\u001b[0;34m(\u001b[0m\u001b[0mX\u001b[0m\u001b[0;34m,\u001b[0m \u001b[0my\u001b[0m\u001b[0;34m,\u001b[0m \u001b[0;34m'csr'\u001b[0m\u001b[0;34m)\u001b[0m\u001b[0;34m\u001b[0m\u001b[0;34m\u001b[0m\u001b[0m\n\u001b[0m\u001b[1;32m    586\u001b[0m         \u001b[0m_\u001b[0m\u001b[0;34m,\u001b[0m \u001b[0mn_features\u001b[0m \u001b[0;34m=\u001b[0m \u001b[0mX\u001b[0m\u001b[0;34m.\u001b[0m\u001b[0mshape\u001b[0m\u001b[0;34m\u001b[0m\u001b[0;34m\u001b[0m\u001b[0m\n\u001b[1;32m    587\u001b[0m \u001b[0;34m\u001b[0m\u001b[0m\n",
      "\u001b[0;32m/usr/local/lib/python3.7/site-packages/sklearn/utils/validation.py\u001b[0m in \u001b[0;36mcheck_X_y\u001b[0;34m(X, y, accept_sparse, accept_large_sparse, dtype, order, copy, force_all_finite, ensure_2d, allow_nd, multi_output, ensure_min_samples, ensure_min_features, y_numeric, warn_on_dtype, estimator)\u001b[0m\n\u001b[1;32m    754\u001b[0m                     \u001b[0mensure_min_features\u001b[0m\u001b[0;34m=\u001b[0m\u001b[0mensure_min_features\u001b[0m\u001b[0;34m,\u001b[0m\u001b[0;34m\u001b[0m\u001b[0;34m\u001b[0m\u001b[0m\n\u001b[1;32m    755\u001b[0m                     \u001b[0mwarn_on_dtype\u001b[0m\u001b[0;34m=\u001b[0m\u001b[0mwarn_on_dtype\u001b[0m\u001b[0;34m,\u001b[0m\u001b[0;34m\u001b[0m\u001b[0;34m\u001b[0m\u001b[0m\n\u001b[0;32m--> 756\u001b[0;31m                     estimator=estimator)\n\u001b[0m\u001b[1;32m    757\u001b[0m     \u001b[0;32mif\u001b[0m \u001b[0mmulti_output\u001b[0m\u001b[0;34m:\u001b[0m\u001b[0;34m\u001b[0m\u001b[0;34m\u001b[0m\u001b[0m\n\u001b[1;32m    758\u001b[0m         y = check_array(y, 'csr', force_all_finite=True, ensure_2d=False,\n",
      "\u001b[0;32m/usr/local/lib/python3.7/site-packages/sklearn/utils/validation.py\u001b[0m in \u001b[0;36mcheck_array\u001b[0;34m(array, accept_sparse, accept_large_sparse, dtype, order, copy, force_all_finite, ensure_2d, allow_nd, ensure_min_samples, ensure_min_features, warn_on_dtype, estimator)\u001b[0m\n\u001b[1;32m    565\u001b[0m         \u001b[0;31m# make sure we actually converted to numeric:\u001b[0m\u001b[0;34m\u001b[0m\u001b[0;34m\u001b[0m\u001b[0;34m\u001b[0m\u001b[0m\n\u001b[1;32m    566\u001b[0m         \u001b[0;32mif\u001b[0m \u001b[0mdtype_numeric\u001b[0m \u001b[0;32mand\u001b[0m \u001b[0marray\u001b[0m\u001b[0;34m.\u001b[0m\u001b[0mdtype\u001b[0m\u001b[0;34m.\u001b[0m\u001b[0mkind\u001b[0m \u001b[0;34m==\u001b[0m \u001b[0;34m\"O\"\u001b[0m\u001b[0;34m:\u001b[0m\u001b[0;34m\u001b[0m\u001b[0;34m\u001b[0m\u001b[0m\n\u001b[0;32m--> 567\u001b[0;31m             \u001b[0marray\u001b[0m \u001b[0;34m=\u001b[0m \u001b[0marray\u001b[0m\u001b[0;34m.\u001b[0m\u001b[0mastype\u001b[0m\u001b[0;34m(\u001b[0m\u001b[0mnp\u001b[0m\u001b[0;34m.\u001b[0m\u001b[0mfloat64\u001b[0m\u001b[0;34m)\u001b[0m\u001b[0;34m\u001b[0m\u001b[0;34m\u001b[0m\u001b[0m\n\u001b[0m\u001b[1;32m    568\u001b[0m         \u001b[0;32mif\u001b[0m \u001b[0;32mnot\u001b[0m \u001b[0mallow_nd\u001b[0m \u001b[0;32mand\u001b[0m \u001b[0marray\u001b[0m\u001b[0;34m.\u001b[0m\u001b[0mndim\u001b[0m \u001b[0;34m>=\u001b[0m \u001b[0;36m3\u001b[0m\u001b[0;34m:\u001b[0m\u001b[0;34m\u001b[0m\u001b[0;34m\u001b[0m\u001b[0m\n\u001b[1;32m    569\u001b[0m             raise ValueError(\"Found array with dim %d. %s expected <= 2.\"\n",
      "\u001b[0;31mValueError\u001b[0m: could not convert string to float: 'HH232735'"
     ]
    }
   ],
   "source": [
    "#Naive Bayes\n",
    "from sklearn import naive_bayes\n",
    "features = [col for col in crime_data if (col != 'Primary Type')]\n",
    "X = crime_data[features]\n",
    "y = crime_data['Primary Type']\n",
    "\n",
    "bayes_classifier = naive_bayes.MultinomialNB()\n",
    "test_model(bayes_classifier,features)"
   ]
  },
  {
   "cell_type": "code",
   "execution_count": null,
   "metadata": {},
   "outputs": [],
   "source": [
    "#Logistic Regression\n",
    "from sklearn import linear_model\n",
    "features = [col for col in crime_data if (col != 'Primary Type')]\n",
    "X = crime_data[features]\n",
    "y = crime_data['Primary Type']\n",
    "\n",
    "logistic_regression = linear_model.LogisticRegression(class_weight = 'balanced')\n",
    "test_model(logistic_regression,features)"
   ]
  },
  {
   "cell_type": "code",
   "execution_count": null,
   "metadata": {},
   "outputs": [],
   "source": [
    "#KNN\n",
    "from sklearn import neighbors\n",
    "features = [col for col in crime_data if (col != 'Primary Type')]\n",
    "X = crime_data[features]\n",
    "y = crime_data['Primary Type']\n",
    "\n",
    "knn = neighbors.KNeighborsClassifier(n_neighbors=3)\n",
    "test_model(knn,features)\n"
   ]
  },
  {
   "cell_type": "code",
   "execution_count": null,
   "metadata": {},
   "outputs": [],
   "source": [
    "# Model : Random Forest\n",
    "\n",
    "#Often throws memory error as RandomForest is very expensive if there are many categories (too many trees)\n",
    "\n",
    "from sklearn import ensemble\n",
    "\n",
    "features = [col for col in crime_data if (col != 'Primary Type')]\n",
    "X = crime_data[features]\n",
    "y = crime_data['Primary Type']\n",
    "\n",
    "random_forest = ensemble.RandomForestClassifier()\n",
    "random_forest.fit(X,y)\n",
    "\n",
    "test_model(random_forest,features)\n",
    "\n",
    "\n"
   ]
  },
  {
   "cell_type": "code",
   "execution_count": null,
   "metadata": {},
   "outputs": [],
   "source": []
  },
  {
   "cell_type": "code",
   "execution_count": null,
   "metadata": {},
   "outputs": [],
   "source": []
  },
  {
   "cell_type": "code",
   "execution_count": null,
   "metadata": {},
   "outputs": [],
   "source": []
  }
 ],
 "metadata": {
  "kernelspec": {
   "display_name": "Python 3",
   "language": "python",
   "name": "python3"
  },
  "language_info": {
   "codemirror_mode": {
    "name": "ipython",
    "version": 3
   },
   "file_extension": ".py",
   "mimetype": "text/x-python",
   "name": "python",
   "nbconvert_exporter": "python",
   "pygments_lexer": "ipython3",
   "version": "3.7.2"
  }
 },
 "nbformat": 4,
 "nbformat_minor": 2
}
