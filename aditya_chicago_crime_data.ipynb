{
 "cells": [
  {
   "cell_type": "code",
   "execution_count": 1,
   "metadata": {},
   "outputs": [],
   "source": [
    "import pandas as pd\n",
    "crime_data = pd.read_csv('http://cluster.earlham.edu/~apc0013/Chicago_crime.csv')"
   ]
  },
  {
   "cell_type": "code",
   "execution_count": null,
   "metadata": {},
   "outputs": [],
   "source": [
    "crime_data.head()"
   ]
  },
  {
   "cell_type": "code",
   "execution_count": null,
   "metadata": {},
   "outputs": [],
   "source": [
    "crime_data.dtypes\n"
   ]
  },
  {
   "cell_type": "code",
   "execution_count": null,
   "metadata": {},
   "outputs": [],
   "source": [
    "crime_data.shape"
   ]
  },
  {
   "cell_type": "code",
   "execution_count": null,
   "metadata": {},
   "outputs": [],
   "source": []
  },
  {
   "cell_type": "markdown",
   "metadata": {},
   "source": [
    " ### Graphs \n",
    " \n",
    " #### Graph 1 : %crimes by location description (10 most common locations) \n",
    " #### Graph 2 : %crimes by crime type (10 most common crime types) \n",
    " #### Graph 3 : %crimes by Description \n",
    " #### Graph 4 : Most common Locations based on type of crime for top ten highest occuring crimes\n",
    " #### Graph 6: Top ten places that an arrest is likely to occur in Chicago"
   ]
  },
  {
   "cell_type": "code",
   "execution_count": null,
   "metadata": {},
   "outputs": [],
   "source": [
    "# Graph 1 : %crimes by location description (10 most common locations) \n",
    "\n",
    "import matplotlib.pyplot as plt\n",
    "%matplotlib inline\n",
    "percent = crime_data['Location Description'].value_counts(normalize=True).apply(lambda x: 100*x)[:15]\n",
    "fig = plt.figure(figsize=(10,6)) \n",
    "ax = fig.gca()     \n",
    "percent.plot.bar(ax = ax) \n",
    "ax.set_title('Percentage of crimes by Location Description for 15 most common locations') \n",
    "ax.set_xlabel('Location Description')\n",
    "ax.set_ylabel('Percentage of Crimes')\n"
   ]
  },
  {
   "cell_type": "code",
   "execution_count": null,
   "metadata": {},
   "outputs": [],
   "source": [
    "# Graph 2 : %crimes by crime type (10 most common crime types) \n",
    "percent = crime_data['Primary Type'].value_counts(normalize=True).apply(lambda x: 100*x)[:15]\n",
    "fig = plt.figure(figsize=(10,6)) \n",
    "ax = fig.gca()     \n",
    "percent.plot.bar(ax = ax) \n",
    "ax.set_title('Percentage of crimes by Primary Type for 15 most common types') \n",
    "ax.set_xlabel('Primary type of Crime')\n",
    "ax.set_ylabel('Percentage of Crimes')"
   ]
  },
  {
   "cell_type": "code",
   "execution_count": null,
   "metadata": {},
   "outputs": [],
   "source": [
    "# Graph 3 : %crimes by Description \n",
    "\n",
    "percent = crime_data['Description'].value_counts(normalize=True).apply(lambda x: 100*x)[:15]\n",
    "fig = plt.figure(figsize=(10,6)) \n",
    "ax = fig.gca()     \n",
    "percent.plot.bar(ax = ax) \n",
    "ax.set_title('Percentage of crimes by Description for 15 most common Descriptions') \n",
    "ax.set_xlabel('Crime Descrption')\n",
    "ax.set_ylabel('Percentage of Crimes')"
   ]
  },
  {
   "cell_type": "code",
   "execution_count": null,
   "metadata": {},
   "outputs": [],
   "source": [
    "# Graph 4 : Most common Locations based on type of crime for top ten highest occuring crimes\n",
    "import numpy as np\n",
    "import seaborn as sns\n",
    "location_by_type  = crime_data.pivot_table(values='ID', index='Location Description', columns='Primary Type', aggfunc=np.size).fillna(0)\n",
    "columns =  location_by_type.sum().sort_values(ascending=False).keys()[:5]\n",
    "\n",
    "def plot_pivot_location_by_type(pivot_table,row):\n",
    "    fig = plt.figure(figsize=(10,6)) \n",
    "    ax = fig.gca()\n",
    "    pivot_table[row].sort_values(ascending= False)[:10].plot(kind='barh').legend()\n",
    "   \n",
    "\n",
    "for col in columns:\n",
    "    plot_pivot_location_by_type(location_by_type,col)\n",
    "\n",
    "\n",
    "    "
   ]
  },
  {
   "cell_type": "code",
   "execution_count": null,
   "metadata": {},
   "outputs": [],
   "source": [
    "#Graph 6: Top ten places that an arrest is likely to occur in Chicago\n",
    "foo = crime_data[['Location Description','Arrest']].groupby('Location Description').sum(axis=1).sort_values(by = 'Arrest',ascending = False)[:10]\n",
    "foo.plot(kind='barh')\n"
   ]
  },
  {
   "cell_type": "code",
   "execution_count": null,
   "metadata": {},
   "outputs": [],
   "source": []
  },
  {
   "cell_type": "code",
   "execution_count": null,
   "metadata": {},
   "outputs": [],
   "source": [
    "# crimes[['Year','Primary Type']].groupby('Primary Type').count()\n",
    "year = crime_data['Year']\n",
    "arrests_by_year_type = crime_data[crime_data['Year']>2015]\n",
    "arrests_by_year_type = arrests_by_year_type.pivot_table('Arrest',index = 'Year',columns = 'Primary Type',aggfunc=np.size)\n",
    "columns =  arrests_by_year_type.sum().sort_values(ascending=False).keys()[:5]\n",
    "\n",
    "def plot_pivot_location_by_type(pivot_table,row):\n",
    "    fig = plt.figure(figsize=(10,6)) \n",
    "    ax = fig.gca()\n",
    "    pivot_table[[row]].sort_values(ascending= False)[:10].plot(kind='barh')\n",
    "\n",
    "for col in columns:\n",
    "    plot_pivot_location_by_type(arrests_by_year_type.unstack(),col)\n",
    "\n",
    "\n",
    "\n"
   ]
  },
  {
   "cell_type": "markdown",
   "metadata": {},
   "source": [
    "### Data Processing"
   ]
  },
  {
   "cell_type": "code",
   "execution_count": 2,
   "metadata": {},
   "outputs": [],
   "source": [
    "#picking primary types with > 5000 samples\n",
    "primary_type = crime_data['Primary Type'].value_counts()[:23].keys()\n",
    "crime_data = crime_data.loc[crime_data['Primary Type'].isin(primary_type)] \n"
   ]
  },
  {
   "cell_type": "code",
   "execution_count": 3,
   "metadata": {},
   "outputs": [],
   "source": [
    "# Converting 'Date' to datetime format\n",
    "date_format = '%m/%d/%Y %I:%M:%S %p'\n",
    "crime_data['Date'] = pd.to_datetime(crime_data['Date'].astype(str), format =date_format)"
   ]
  },
  {
   "cell_type": "code",
   "execution_count": 4,
   "metadata": {},
   "outputs": [
    {
     "name": "stdout",
     "output_type": "stream",
     "text": [
      "number of categorical datapoints by category\n",
      "District : 24\n",
      "Description : 350\n",
      "Location Description : 179\n"
     ]
    }
   ],
   "source": [
    "#checking number of features by category\n",
    "categorical = ['District','Description','Location Description']\n",
    "\n",
    "print('number of categorical datapoints by category')\n",
    "for cat in categorical:    \n",
    "    print(cat + \" : \"+ str(len(crime_data[cat].value_counts())) )\n",
    "\n"
   ]
  },
  {
   "cell_type": "code",
   "execution_count": null,
   "metadata": {},
   "outputs": [],
   "source": [
    "#Encoding categorical features\n",
    "# categorical = ['District','Description','Location Description']\n",
    "# prefixes =  ['District_','Description_','Location Description_']\n",
    "# dummies = pd.get_dummies(crime_data, columns= categorical, prefix = prefixes)\n",
    "\n"
   ]
  },
  {
   "cell_type": "code",
   "execution_count": null,
   "metadata": {},
   "outputs": [],
   "source": []
  },
  {
   "cell_type": "code",
   "execution_count": null,
   "metadata": {},
   "outputs": [],
   "source": []
  },
  {
   "cell_type": "code",
   "execution_count": null,
   "metadata": {},
   "outputs": [],
   "source": [
    "\n"
   ]
  },
  {
   "cell_type": "code",
   "execution_count": null,
   "metadata": {},
   "outputs": [],
   "source": [
    "# Data processing \n",
    "\n",
    "unused = ['Beat','Community Area','Case Number','District','FBI Code','ID','Location','Updated On','Ward']\n",
    "text_features = ['Description','Location Description']\n",
    "\n",
    "\n",
    "features = [col_name for col_name in crime_data if (col_name != 'Primary Type') and (col_name not in unused)]\n",
    "\n",
    "\n",
    "crime_data_non_categorical = crime_data[[col for col in crime_data if col not in categorical]]\n",
    "\n",
    "crime_data = pd.concat([crime_data_non_categorical, dummies], axis=1) "
   ]
  },
  {
   "cell_type": "code",
   "execution_count": null,
   "metadata": {},
   "outputs": [],
   "source": [
    "from sklearn.model_selection import train_test_split, learning_curve\n",
    "from sklearn import metrics\n",
    "# Model Functions \n",
    "def evaluate_model(model,X_test,y_test):\n",
    "    y_predicted = model.predict(X_test)\n",
    "    model_score = model.score(X_test,y_test) \n",
    "    recall_score = metrics.recall_score(y_test,y_predicted)\n",
    "    accuracy_score = metrics.accuracy_score(y_test,y_predicted)\n",
    "    precision_score = metrics.precision_score(y_test,y_predicted)   \n",
    "    \n",
    "    print('model score : ' + str(model_score) )\n",
    "    print('accuracy score : ' + str(accuracy_score))\n",
    "    print('precision score : ' + str(precision_score)  )\n",
    "    print('recall score : ' + str(recall_score))\n",
    "    print(metrics.confusion_matrix(y_test,y_predicted))\n",
    "\n",
    "def test_model(model,features):\n",
    "    X = crime_data[features]\n",
    "    y = crime_data['Primary Type']\n",
    "    X_train, X_test, y_train, y_test = train_test_split(X, y, random_state=1)\n",
    "    model.fit(X_train,y_train)\n",
    "    evaluate_model(model,X_test,y_test)   "
   ]
  },
  {
   "cell_type": "code",
   "execution_count": null,
   "metadata": {},
   "outputs": [],
   "source": [
    "# Model : Random Forest\n",
    "\n",
    "\n",
    "\n",
    "\n",
    "X = crime_data[features]\n",
    "y = crime_data['Primary Type']\n",
    "X_train, X_test, y_train, y_test = train_test_split(X, y, random_state=1)\n",
    "\n",
    "\n",
    "# test_model(random_forest,features)"
   ]
  },
  {
   "cell_type": "code",
   "execution_count": null,
   "metadata": {},
   "outputs": [],
   "source": [
    "from sklearn import ensemble\n",
    "random_forest = ensemble.RandomForestClassifier()\n",
    "\n",
    "random_forest.fit(X_train,y_train)\n",
    "\n"
   ]
  },
  {
   "cell_type": "code",
   "execution_count": null,
   "metadata": {},
   "outputs": [],
   "source": [
    "\n",
    "for col in X:    \n",
    "    print(crime_data[[col]].sample(n=1))\n"
   ]
  },
  {
   "cell_type": "code",
   "execution_count": 12,
   "metadata": {},
   "outputs": [
    {
     "data": {
      "text/plain": [
       "CYCLE, SCOOTER, BIKE W-VIN                   5049\n",
       "VEHICULAR HIJACKING                          5107\n",
       "HOME INVASION                                5142\n",
       "PAROLE VIOLATION                             5272\n",
       "OBSTRUCTING IDENTIFICATION                   5559\n",
       "AGG CRIMINAL SEXUAL ABUSE                    5666\n",
       "TO STATE SUP PROP                            5780\n",
       "RESIST/OBSTRUCT/DISARM OFFICER               5828\n",
       "BOMB THREAT                                  6604\n",
       "ENDANGERING LIFE/HEALTH CHILD                6763\n",
       "OTHER CRIME AGAINST PERSON                   7052\n",
       "LICENSE VIOLATION                            7064\n",
       "PUBLIC INDECENCY                             7327\n",
       "BY FIRE                                      7349\n",
       "OTHER WEAPONS VIOLATION                      7372\n",
       "COUNTERFEIT CHECK                            7678\n",
       "VEHICLE TITLE/REG OFFENSE                    7796\n",
       "FINANCIAL IDENTITY THEFT $300 AND UNDER      8008\n",
       "ATTEMPT: ARMED-HANDGUN                       8366\n",
       "UNLAWFUL USE OTHER DANG WEAPON               8506\n",
       "THEFT OF LOST/MISLAID PROP                   8558\n",
       "POSSESSION OF DRUG EQUIPMENT                 8863\n",
       "OTHER OFFENSE                                9088\n",
       "CRIMINAL SEXUAL ABUSE                        9221\n",
       "AGGRAVATED VEHICULAR HIJACKING               9528\n",
       "FIRST DEGREE MURDER                          9536\n",
       "ATTEMPT: STRONGARM-NO WEAPON                 9947\n",
       "ATTEMPT THEFT                               11326\n",
       "MANU/DEL:CANNABIS OVER 10 GMS               11443\n",
       "ATT: AUTOMOBILE                             11449\n",
       "                                            ...  \n",
       "CRIMINAL DEFACEMENT                         33944\n",
       "VIOLATE ORDER OF PROTECTION                 34118\n",
       "TO STATE SUP LAND                           36433\n",
       "OTHER VEHICLE OFFENSE                       36752\n",
       "FINANCIAL ID THEFT: OVER $300               44531\n",
       "SOLICIT ON PUBLIC WAY                       47471\n",
       "UNLAWFUL POSS OF HANDGUN                    48272\n",
       "CREDIT CARD FRAUD                           54481\n",
       "AGGRAVATED:KNIFE/CUTTING INSTR              57393\n",
       "AGGRAVATED: HANDGUN                         85389\n",
       "STRONGARM - NO WEAPON                       89621\n",
       "ARMED: HANDGUN                              91559\n",
       "POSS: HEROIN(WHITE)                         92906\n",
       "AGGRAVATED: OTHER DANG WEAPON               94132\n",
       "HARASSMENT BY TELEPHONE                    101358\n",
       "UNLAWFUL ENTRY                             104099\n",
       "POSS: CRACK                                119610\n",
       "TO LAND                                    121155\n",
       "TELEPHONE THREAT                           135806\n",
       "RETAIL THEFT                               170894\n",
       "FROM BUILDING                              230782\n",
       "AUTOMOBILE                                 249249\n",
       "FORCIBLE ENTRY                             265085\n",
       "POSS: CANNABIS 30GMS OR LESS               277132\n",
       "OVER $500                                  353448\n",
       "TO PROPERTY                                359147\n",
       "TO VEHICLE                                 378834\n",
       "DOMESTIC BATTERY SIMPLE                    525247\n",
       "$500 AND UNDER                             554442\n",
       "SIMPLE                                     803085\n",
       "Name: Description, Length: 98, dtype: int64"
      ]
     },
     "execution_count": 12,
     "metadata": {},
     "output_type": "execute_result"
    }
   ],
   "source": [
    "crime_data['Description'].value_counts()[:98].sort_values()\n"
   ]
  },
  {
   "cell_type": "code",
   "execution_count": null,
   "metadata": {},
   "outputs": [],
   "source": []
  }
 ],
 "metadata": {
  "kernelspec": {
   "display_name": "Python 3",
   "language": "python",
   "name": "python3"
  },
  "language_info": {
   "codemirror_mode": {
    "name": "ipython",
    "version": 3
   },
   "file_extension": ".py",
   "mimetype": "text/x-python",
   "name": "python",
   "nbconvert_exporter": "python",
   "pygments_lexer": "ipython3",
   "version": "3.6.5"
  }
 },
 "nbformat": 4,
 "nbformat_minor": 2
}
