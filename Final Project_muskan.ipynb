{
 "cells": [
  {
   "cell_type": "code",
   "execution_count": 1,
   "metadata": {},
   "outputs": [],
   "source": [
    "import pandas as pd\n",
    "%matplotlib inline\n",
    "import matplotlib.pyplot as plt\n",
    "import seaborn as sns\n",
    "import numpy as np"
   ]
  },
  {
   "cell_type": "code",
   "execution_count": 2,
   "metadata": {},
   "outputs": [
    {
     "data": {
      "text/html": [
       "<div>\n",
       "<style scoped>\n",
       "    .dataframe tbody tr th:only-of-type {\n",
       "        vertical-align: middle;\n",
       "    }\n",
       "\n",
       "    .dataframe tbody tr th {\n",
       "        vertical-align: top;\n",
       "    }\n",
       "\n",
       "    .dataframe thead th {\n",
       "        text-align: right;\n",
       "    }\n",
       "</style>\n",
       "<table border=\"1\" class=\"dataframe\">\n",
       "  <thead>\n",
       "    <tr style=\"text-align: right;\">\n",
       "      <th></th>\n",
       "      <th>ID</th>\n",
       "      <th>Case Number</th>\n",
       "      <th>Date</th>\n",
       "      <th>Block</th>\n",
       "      <th>IUCR</th>\n",
       "      <th>Primary Type</th>\n",
       "      <th>Description</th>\n",
       "      <th>Location Description</th>\n",
       "      <th>Arrest</th>\n",
       "      <th>Domestic</th>\n",
       "      <th>Beat</th>\n",
       "      <th>District</th>\n",
       "      <th>Ward</th>\n",
       "      <th>Community Area</th>\n",
       "      <th>FBI Code</th>\n",
       "      <th>X Coordinate</th>\n",
       "      <th>Y Coordinate</th>\n",
       "      <th>Year</th>\n",
       "      <th>Updated On</th>\n",
       "      <th>Latitude</th>\n",
       "      <th>Longitude</th>\n",
       "      <th>Location</th>\n",
       "    </tr>\n",
       "  </thead>\n",
       "  <tbody>\n",
       "    <tr>\n",
       "      <th>0</th>\n",
       "      <td>2746413</td>\n",
       "      <td>HJ384532</td>\n",
       "      <td>05/20/2003 08:00:00 PM</td>\n",
       "      <td>072XX S FAIRFIELD AVE</td>\n",
       "      <td>0610</td>\n",
       "      <td>BURGLARY</td>\n",
       "      <td>FORCIBLE ENTRY</td>\n",
       "      <td>RESIDENCE</td>\n",
       "      <td>False</td>\n",
       "      <td>False</td>\n",
       "      <td>831</td>\n",
       "      <td>8.0</td>\n",
       "      <td>18.0</td>\n",
       "      <td>66.0</td>\n",
       "      <td>05</td>\n",
       "      <td>1159293.0</td>\n",
       "      <td>1856544.0</td>\n",
       "      <td>2003</td>\n",
       "      <td>02/28/2018 03:56:25 PM</td>\n",
       "      <td>41.762076</td>\n",
       "      <td>-87.691736</td>\n",
       "      <td>(41.762075613, -87.691735556)</td>\n",
       "    </tr>\n",
       "    <tr>\n",
       "      <th>1</th>\n",
       "      <td>2746414</td>\n",
       "      <td>HJ385055</td>\n",
       "      <td>05/24/2003 09:25:00 PM</td>\n",
       "      <td>015XX W ROOSEVELT RD</td>\n",
       "      <td>0420</td>\n",
       "      <td>BATTERY</td>\n",
       "      <td>AGGRAVATED:KNIFE/CUTTING INSTR</td>\n",
       "      <td>SIDEWALK</td>\n",
       "      <td>False</td>\n",
       "      <td>False</td>\n",
       "      <td>1231</td>\n",
       "      <td>12.0</td>\n",
       "      <td>2.0</td>\n",
       "      <td>28.0</td>\n",
       "      <td>04B</td>\n",
       "      <td>1166352.0</td>\n",
       "      <td>1894784.0</td>\n",
       "      <td>2003</td>\n",
       "      <td>02/28/2018 03:56:25 PM</td>\n",
       "      <td>41.866863</td>\n",
       "      <td>-87.664773</td>\n",
       "      <td>(41.866863003, -87.664772948)</td>\n",
       "    </tr>\n",
       "    <tr>\n",
       "      <th>2</th>\n",
       "      <td>2746415</td>\n",
       "      <td>HJ384304</td>\n",
       "      <td>05/24/2003 01:10:00 PM</td>\n",
       "      <td>062XX S CLAREMONT AVE</td>\n",
       "      <td>031A</td>\n",
       "      <td>ROBBERY</td>\n",
       "      <td>ARMED: HANDGUN</td>\n",
       "      <td>STREET</td>\n",
       "      <td>False</td>\n",
       "      <td>False</td>\n",
       "      <td>825</td>\n",
       "      <td>8.0</td>\n",
       "      <td>15.0</td>\n",
       "      <td>66.0</td>\n",
       "      <td>03</td>\n",
       "      <td>1161795.0</td>\n",
       "      <td>1863307.0</td>\n",
       "      <td>2003</td>\n",
       "      <td>02/28/2018 03:56:25 PM</td>\n",
       "      <td>41.780583</td>\n",
       "      <td>-87.682378</td>\n",
       "      <td>(41.78058266, -87.682377751)</td>\n",
       "    </tr>\n",
       "    <tr>\n",
       "      <th>3</th>\n",
       "      <td>2746416</td>\n",
       "      <td>HJ384255</td>\n",
       "      <td>05/24/2003 02:00:00 PM</td>\n",
       "      <td>031XX N CLARK ST</td>\n",
       "      <td>0860</td>\n",
       "      <td>THEFT</td>\n",
       "      <td>RETAIL THEFT</td>\n",
       "      <td>SMALL RETAIL STORE</td>\n",
       "      <td>True</td>\n",
       "      <td>False</td>\n",
       "      <td>1932</td>\n",
       "      <td>19.0</td>\n",
       "      <td>44.0</td>\n",
       "      <td>6.0</td>\n",
       "      <td>06</td>\n",
       "      <td>1170274.0</td>\n",
       "      <td>1920971.0</td>\n",
       "      <td>2003</td>\n",
       "      <td>02/28/2018 03:56:25 PM</td>\n",
       "      <td>41.938637</td>\n",
       "      <td>-87.649609</td>\n",
       "      <td>(41.938636968, -87.64960867)</td>\n",
       "    </tr>\n",
       "    <tr>\n",
       "      <th>4</th>\n",
       "      <td>2746418</td>\n",
       "      <td>HJ385442</td>\n",
       "      <td>05/25/2003 02:22:00 AM</td>\n",
       "      <td>031XX N BROADWAY</td>\n",
       "      <td>0810</td>\n",
       "      <td>THEFT</td>\n",
       "      <td>OVER $500</td>\n",
       "      <td>STREET</td>\n",
       "      <td>False</td>\n",
       "      <td>False</td>\n",
       "      <td>2332</td>\n",
       "      <td>19.0</td>\n",
       "      <td>44.0</td>\n",
       "      <td>6.0</td>\n",
       "      <td>06</td>\n",
       "      <td>1171708.0</td>\n",
       "      <td>1920869.0</td>\n",
       "      <td>2003</td>\n",
       "      <td>02/28/2018 03:56:25 PM</td>\n",
       "      <td>41.938326</td>\n",
       "      <td>-87.644341</td>\n",
       "      <td>(41.938325571, -87.644341433)</td>\n",
       "    </tr>\n",
       "  </tbody>\n",
       "</table>\n",
       "</div>"
      ],
      "text/plain": [
       "        ID Case Number                    Date                  Block  IUCR  \\\n",
       "0  2746413    HJ384532  05/20/2003 08:00:00 PM  072XX S FAIRFIELD AVE  0610   \n",
       "1  2746414    HJ385055  05/24/2003 09:25:00 PM   015XX W ROOSEVELT RD  0420   \n",
       "2  2746415    HJ384304  05/24/2003 01:10:00 PM  062XX S CLAREMONT AVE  031A   \n",
       "3  2746416    HJ384255  05/24/2003 02:00:00 PM       031XX N CLARK ST  0860   \n",
       "4  2746418    HJ385442  05/25/2003 02:22:00 AM       031XX N BROADWAY  0810   \n",
       "\n",
       "  Primary Type                     Description Location Description  Arrest  \\\n",
       "0     BURGLARY                  FORCIBLE ENTRY            RESIDENCE   False   \n",
       "1      BATTERY  AGGRAVATED:KNIFE/CUTTING INSTR             SIDEWALK   False   \n",
       "2      ROBBERY                  ARMED: HANDGUN               STREET   False   \n",
       "3        THEFT                    RETAIL THEFT   SMALL RETAIL STORE    True   \n",
       "4        THEFT                       OVER $500               STREET   False   \n",
       "\n",
       "   Domestic  Beat  District  Ward  Community Area FBI Code  X Coordinate  \\\n",
       "0     False   831       8.0  18.0            66.0       05     1159293.0   \n",
       "1     False  1231      12.0   2.0            28.0      04B     1166352.0   \n",
       "2     False   825       8.0  15.0            66.0       03     1161795.0   \n",
       "3     False  1932      19.0  44.0             6.0       06     1170274.0   \n",
       "4     False  2332      19.0  44.0             6.0       06     1171708.0   \n",
       "\n",
       "   Y Coordinate  Year              Updated On   Latitude  Longitude  \\\n",
       "0     1856544.0  2003  02/28/2018 03:56:25 PM  41.762076 -87.691736   \n",
       "1     1894784.0  2003  02/28/2018 03:56:25 PM  41.866863 -87.664773   \n",
       "2     1863307.0  2003  02/28/2018 03:56:25 PM  41.780583 -87.682378   \n",
       "3     1920971.0  2003  02/28/2018 03:56:25 PM  41.938637 -87.649609   \n",
       "4     1920869.0  2003  02/28/2018 03:56:25 PM  41.938326 -87.644341   \n",
       "\n",
       "                        Location  \n",
       "0  (41.762075613, -87.691735556)  \n",
       "1  (41.866863003, -87.664772948)  \n",
       "2   (41.78058266, -87.682377751)  \n",
       "3   (41.938636968, -87.64960867)  \n",
       "4  (41.938325571, -87.644341433)  "
      ]
     },
     "execution_count": 2,
     "metadata": {},
     "output_type": "execute_result"
    }
   ],
   "source": [
    "pd.options.display.max_columns = 40\n",
    "data = pd.read_csv('http://cluster.earlham.edu/~apc0013/Chicago_crime.csv')\n",
    "data.head()"
   ]
  },
  {
   "cell_type": "code",
   "execution_count": 3,
   "metadata": {},
   "outputs": [],
   "source": [
    "data['Date'] = pd.to_datetime(data.Date, format=\"%m/%d/%Y %I:%M:%S %p\")"
   ]
  },
  {
   "cell_type": "code",
   "execution_count": 4,
   "metadata": {},
   "outputs": [
    {
     "data": {
      "text/plain": [
       "0    20\n",
       "1    21\n",
       "2    13\n",
       "3    14\n",
       "4     2\n",
       "Name: time, dtype: int64"
      ]
     },
     "execution_count": 4,
     "metadata": {},
     "output_type": "execute_result"
    }
   ],
   "source": [
    "data['month'] = data['Date'].dt.month\n",
    "data['time'] = data['Date'].dt.hour\n",
    "data['time'].head()"
   ]
  },
  {
   "cell_type": "code",
   "execution_count": 5,
   "metadata": {},
   "outputs": [
    {
     "data": {
      "text/plain": [
       "Text(0,0.5,'Frequency')"
      ]
     },
     "execution_count": 5,
     "metadata": {},
     "output_type": "execute_result"
    },
    {
     "data": {
      "image/png": "[encoded data removed]",
      "text/plain": [
       "<Figure size 432x432 with 1 Axes>"
      ]
     },
     "metadata": {},
     "output_type": "display_data"
    }
   ],
   "source": [
    "fig = plt.figure(figsize= (6,6))\n",
    "ax = fig.gca()\n",
    "topTen = data['Primary Type'].value_counts().head(10)\n",
    "topTen.plot(kind = 'bar', ax=ax)\n",
    "ax.set_title('Top 10 crime in Chicage by Frequency')\n",
    "ax.set_ylabel('Frequency')"
   ]
  },
  {
   "cell_type": "code",
   "execution_count": 6,
   "metadata": {},
   "outputs": [
    {
     "data": {
      "text/html": [
       "<div>\n",
       "<style scoped>\n",
       "    .dataframe tbody tr th:only-of-type {\n",
       "        vertical-align: middle;\n",
       "    }\n",
       "\n",
       "    .dataframe tbody tr th {\n",
       "        vertical-align: top;\n",
       "    }\n",
       "\n",
       "    .dataframe thead th {\n",
       "        text-align: right;\n",
       "    }\n",
       "</style>\n",
       "<table border=\"1\" class=\"dataframe\">\n",
       "  <thead>\n",
       "    <tr style=\"text-align: right;\">\n",
       "      <th></th>\n",
       "      <th>Year</th>\n",
       "      <th>Primary Type</th>\n",
       "      <th>Count</th>\n",
       "    </tr>\n",
       "  </thead>\n",
       "  <tbody>\n",
       "    <tr>\n",
       "      <th>0</th>\n",
       "      <td>2001</td>\n",
       "      <td>THEFT</td>\n",
       "      <td>99264</td>\n",
       "    </tr>\n",
       "    <tr>\n",
       "      <th>1</th>\n",
       "      <td>2001</td>\n",
       "      <td>BATTERY</td>\n",
       "      <td>93446</td>\n",
       "    </tr>\n",
       "    <tr>\n",
       "      <th>2</th>\n",
       "      <td>2001</td>\n",
       "      <td>CRIMINAL DAMAGE</td>\n",
       "      <td>55851</td>\n",
       "    </tr>\n",
       "    <tr>\n",
       "      <th>3</th>\n",
       "      <td>2001</td>\n",
       "      <td>NARCOTICS</td>\n",
       "      <td>50567</td>\n",
       "    </tr>\n",
       "    <tr>\n",
       "      <th>4</th>\n",
       "      <td>2001</td>\n",
       "      <td>ASSAULT</td>\n",
       "      <td>31384</td>\n",
       "    </tr>\n",
       "  </tbody>\n",
       "</table>\n",
       "</div>"
      ],
      "text/plain": [
       "   Year     Primary Type  Count\n",
       "0  2001            THEFT  99264\n",
       "1  2001          BATTERY  93446\n",
       "2  2001  CRIMINAL DAMAGE  55851\n",
       "3  2001        NARCOTICS  50567\n",
       "4  2001          ASSAULT  31384"
      ]
     },
     "execution_count": 6,
     "metadata": {},
     "output_type": "execute_result"
    }
   ],
   "source": [
    "x = data.groupby('Year')['Primary Type'].value_counts().to_frame()\n",
    "x.rename(columns= {'Primary Type': 'Count'}, inplace=True)\n",
    "x.reset_index(inplace=True)\n",
    "x.head()"
   ]
  },
  {
   "cell_type": "code",
   "execution_count": 7,
   "metadata": {},
   "outputs": [
    {
     "name": "stderr",
     "output_type": "stream",
     "text": [
      "/mnt/lovelace/software/anaconda/lib/python3.6/site-packages/pandas/core/frame.py:3781: SettingWithCopyWarning: \n",
      "A value is trying to be set on a copy of a slice from a DataFrame\n",
      "\n",
      "See the caveats in the documentation: http://pandas.pydata.org/pandas-docs/stable/indexing.html#indexing-view-versus-copy\n",
      "  return super(DataFrame, self).rename(**kwargs)\n"
     ]
    },
    {
     "data": {
      "text/plain": [
       "Text(0,0.5,'Frequency')"
      ]
     },
     "execution_count": 7,
     "metadata": {},
     "output_type": "execute_result"
    },
    {
     "data": {
      "image/png": "[encoded data removed]",
      "text/plain": [
       "<Figure size 864x432 with 1 Axes>"
      ]
     },
     "metadata": {},
     "output_type": "display_data"
    }
   ],
   "source": [
    "fig = plt.figure(figsize= (12,6))\n",
    "ax = fig.gca()\n",
    "theft = x[x['Primary Type']=='THEFT']\n",
    "theft.rename(columns={'Count': 'THEFT'}, inplace= True)\n",
    "battery = x[x['Primary Type']=='BATTERY']\n",
    "battery.rename(columns={'Count': 'BATTERY'}, inplace= True)\n",
    "crim = x[x['Primary Type']=='CRIMINAL DAMAGE']\n",
    "crim.rename(columns={'Count': 'CRIMINAL DAMAGE'}, inplace= True)\n",
    "narc = x[x['Primary Type']=='NARCOTICS']\n",
    "narc.rename(columns={'Count': 'NARCOTICS'}, inplace= True)\n",
    "assault = x[x['Primary Type']=='ASSAULT']\n",
    "assault.rename(columns={'Count': 'ASSAULT'}, inplace= True)\n",
    "theft.plot(kind = 'line', x = 'Year', y = 'THEFT', ax=ax,xticks=[2000,2002,2004,2006,2008,2010,2012,2014,2016, 2018,2020])\n",
    "battery.plot(kind = 'line', x = 'Year', y = 'BATTERY', ax=ax)\n",
    "crim.plot(kind = 'line', x = 'Year', y = 'CRIMINAL DAMAGE', ax=ax)\n",
    "narc.plot(kind = 'line', x = 'Year', y = 'NARCOTICS', ax=ax)\n",
    "assault.plot(kind = 'line', x = 'Year', y = 'ASSAULT', ax=ax)\n",
    "ax.set_title('Crime rate from 2001 to 2019')\n",
    "ax.set_ylabel('Frequency')"
   ]
  },
  {
   "cell_type": "code",
   "execution_count": 9,
   "metadata": {},
   "outputs": [
    {
     "data": {
      "text/plain": [
       "False    4691142\n",
       "True     1826871\n",
       "Name: Arrest, dtype: int64"
      ]
     },
     "execution_count": 9,
     "metadata": {},
     "output_type": "execute_result"
    }
   ],
   "source": [
    "# we see about 40% arrest rate overall\n",
    "old = data[data['Year']<2018]\n",
    "old['Arrest'].value_counts()"
   ]
  },
  {
   "cell_type": "code",
   "execution_count": 12,
   "metadata": {},
   "outputs": [
    {
     "data": {
      "text/plain": [
       "False    254149\n",
       "True      63861\n",
       "Name: Arrest, dtype: int64"
      ]
     },
     "execution_count": 12,
     "metadata": {},
     "output_type": "execute_result"
    }
   ],
   "source": [
    "# after 2018, arrest rate has fallen to below 25%\n",
    "recent = data[data['Year']>2017]\n",
    "recent['Arrest'].value_counts()"
   ]
  },
  {
   "cell_type": "code",
   "execution_count": 13,
   "metadata": {},
   "outputs": [
    {
     "data": {
      "text/html": [
       "<div>\n",
       "<style scoped>\n",
       "    .dataframe tbody tr th:only-of-type {\n",
       "        vertical-align: middle;\n",
       "    }\n",
       "\n",
       "    .dataframe tbody tr th {\n",
       "        vertical-align: top;\n",
       "    }\n",
       "\n",
       "    .dataframe thead th {\n",
       "        text-align: right;\n",
       "    }\n",
       "</style>\n",
       "<table border=\"1\" class=\"dataframe\">\n",
       "  <thead>\n",
       "    <tr style=\"text-align: right;\">\n",
       "      <th></th>\n",
       "      <th>month</th>\n",
       "      <th>Count</th>\n",
       "    </tr>\n",
       "    <tr>\n",
       "      <th>month</th>\n",
       "      <th></th>\n",
       "      <th></th>\n",
       "    </tr>\n",
       "  </thead>\n",
       "  <tbody>\n",
       "    <tr>\n",
       "      <th>1</th>\n",
       "      <td>1</td>\n",
       "      <td>547596</td>\n",
       "    </tr>\n",
       "    <tr>\n",
       "      <th>2</th>\n",
       "      <td>2</td>\n",
       "      <td>481763</td>\n",
       "    </tr>\n",
       "    <tr>\n",
       "      <th>3</th>\n",
       "      <td>3</td>\n",
       "      <td>572515</td>\n",
       "    </tr>\n",
       "    <tr>\n",
       "      <th>4</th>\n",
       "      <td>4</td>\n",
       "      <td>559129</td>\n",
       "    </tr>\n",
       "    <tr>\n",
       "      <th>5</th>\n",
       "      <td>5</td>\n",
       "      <td>603145</td>\n",
       "    </tr>\n",
       "  </tbody>\n",
       "</table>\n",
       "</div>"
      ],
      "text/plain": [
       "       month   Count\n",
       "month               \n",
       "1          1  547596\n",
       "2          2  481763\n",
       "3          3  572515\n",
       "4          4  559129\n",
       "5          5  603145"
      ]
     },
     "execution_count": 13,
     "metadata": {},
     "output_type": "execute_result"
    }
   ],
   "source": [
    "month = data.groupby('month')['month'].value_counts().to_frame()\n",
    "month.rename(columns={'month':'Count'},inplace=True)\n",
    "month.reset_index(level=0, inplace=True)\n",
    "month.reset_index(drop=True)\n",
    "month.head()"
   ]
  },
  {
   "cell_type": "code",
   "execution_count": 14,
   "metadata": {},
   "outputs": [
    {
     "data": {
      "text/plain": [
       "Text(0.5,1,'Criminal Activity by Month')"
      ]
     },
     "execution_count": 14,
     "metadata": {},
     "output_type": "execute_result"
    },
    {
     "data": {
      "image/png": "[encoded data removed]",
      "text/plain": [
       "<Figure size 864x432 with 1 Axes>"
      ]
     },
     "metadata": {},
     "output_type": "display_data"
    }
   ],
   "source": [
    "fig = plt.figure(figsize= (12,6))\n",
    "ax = fig.gca()\n",
    "sns.barplot(data = month, x = 'month', y = 'Count',ax=ax)\n",
    "month.plot(kind='line', x = 'month', y = 'Count',ax=ax)\n",
    "ax.set_title('Criminal Activity by Month')"
   ]
  },
  {
   "cell_type": "code",
   "execution_count": 15,
   "metadata": {},
   "outputs": [
    {
     "data": {
      "text/html": [
       "<div>\n",
       "<style scoped>\n",
       "    .dataframe tbody tr th:only-of-type {\n",
       "        vertical-align: middle;\n",
       "    }\n",
       "\n",
       "    .dataframe tbody tr th {\n",
       "        vertical-align: top;\n",
       "    }\n",
       "\n",
       "    .dataframe thead th {\n",
       "        text-align: right;\n",
       "    }\n",
       "</style>\n",
       "<table border=\"1\" class=\"dataframe\">\n",
       "  <thead>\n",
       "    <tr style=\"text-align: right;\">\n",
       "      <th></th>\n",
       "      <th>time</th>\n",
       "      <th>Count</th>\n",
       "    </tr>\n",
       "    <tr>\n",
       "      <th>time</th>\n",
       "      <th></th>\n",
       "      <th></th>\n",
       "    </tr>\n",
       "  </thead>\n",
       "  <tbody>\n",
       "    <tr>\n",
       "      <th>0</th>\n",
       "      <td>24</td>\n",
       "      <td>377930</td>\n",
       "    </tr>\n",
       "    <tr>\n",
       "      <th>1</th>\n",
       "      <td>1</td>\n",
       "      <td>216571</td>\n",
       "    </tr>\n",
       "    <tr>\n",
       "      <th>2</th>\n",
       "      <td>2</td>\n",
       "      <td>181731</td>\n",
       "    </tr>\n",
       "    <tr>\n",
       "      <th>3</th>\n",
       "      <td>3</td>\n",
       "      <td>146428</td>\n",
       "    </tr>\n",
       "    <tr>\n",
       "      <th>4</th>\n",
       "      <td>4</td>\n",
       "      <td>110274</td>\n",
       "    </tr>\n",
       "  </tbody>\n",
       "</table>\n",
       "</div>"
      ],
      "text/plain": [
       "      time   Count\n",
       "time              \n",
       "0       24  377930\n",
       "1        1  216571\n",
       "2        2  181731\n",
       "3        3  146428\n",
       "4        4  110274"
      ]
     },
     "execution_count": 15,
     "metadata": {},
     "output_type": "execute_result"
    }
   ],
   "source": [
    "time = data.groupby('time')['time'].value_counts().to_frame()\n",
    "time.rename(columns={'time':'Count'},inplace=True)\n",
    "time.reset_index(level=0, inplace=True)\n",
    "time.reset_index(drop=True)\n",
    "time['time'] = time.replace(to_replace= 0 , value= 24)\n",
    "time.head()"
   ]
  },
  {
   "cell_type": "code",
   "execution_count": 16,
   "metadata": {},
   "outputs": [
    {
     "data": {
      "text/plain": [
       "Text(0.5,1,'Criminal Activity by the hour')"
      ]
     },
     "execution_count": 16,
     "metadata": {},
     "output_type": "execute_result"
    },
    {
     "data": {
      "image/png": "[encoded data removed]",
      "text/plain": [
       "<Figure size 864x432 with 1 Axes>"
      ]
     },
     "metadata": {},
     "output_type": "display_data"
    }
   ],
   "source": [
    "fig = plt.figure(figsize= (12,6))\n",
    "ax = fig.gca()\n",
    "# time.plot(kind='line', x = 'time', y = 'Count',ax=ax)\n",
    "sns.barplot(data = time, x = 'time', y = 'Count',ax=ax)\n",
    "# sns.lineplot(data = time, x = 'time', y = 'Count',ax=ax)\n",
    "ax.set_title('Criminal Activity by the hour')"
   ]
  },
  {
   "cell_type": "code",
   "execution_count": 24,
   "metadata": {},
   "outputs": [],
   "source": [
    "timeloc = data.groupby(['time'])['Location Description'].value_counts().to_frame()\n",
    "timeloc.rename(columns = {'Location Description': 'Count'}, inplace = True)\n",
    "timeloc.reset_index(inplace = True)\n",
    "timeloc.drop_duplicates(subset='time', inplace=True )"
   ]
  },
  {
   "cell_type": "code",
   "execution_count": 26,
   "metadata": {},
   "outputs": [
    {
     "data": {
      "text/html": [
       "<div>\n",
       "<style scoped>\n",
       "    .dataframe tbody tr th:only-of-type {\n",
       "        vertical-align: middle;\n",
       "    }\n",
       "\n",
       "    .dataframe tbody tr th {\n",
       "        vertical-align: top;\n",
       "    }\n",
       "\n",
       "    .dataframe thead th {\n",
       "        text-align: right;\n",
       "    }\n",
       "</style>\n",
       "<table border=\"1\" class=\"dataframe\">\n",
       "  <thead>\n",
       "    <tr style=\"text-align: right;\">\n",
       "      <th></th>\n",
       "      <th>time</th>\n",
       "      <th>Location Description</th>\n",
       "      <th>Count</th>\n",
       "    </tr>\n",
       "  </thead>\n",
       "  <tbody>\n",
       "    <tr>\n",
       "      <th>0</th>\n",
       "      <td>0</td>\n",
       "      <td>STREET</td>\n",
       "      <td>113259</td>\n",
       "    </tr>\n",
       "    <tr>\n",
       "      <th>128</th>\n",
       "      <td>1</td>\n",
       "      <td>STREET</td>\n",
       "      <td>69150</td>\n",
       "    </tr>\n",
       "    <tr>\n",
       "      <th>256</th>\n",
       "      <td>2</td>\n",
       "      <td>STREET</td>\n",
       "      <td>56921</td>\n",
       "    </tr>\n",
       "    <tr>\n",
       "      <th>388</th>\n",
       "      <td>3</td>\n",
       "      <td>STREET</td>\n",
       "      <td>44636</td>\n",
       "    </tr>\n",
       "    <tr>\n",
       "      <th>517</th>\n",
       "      <td>4</td>\n",
       "      <td>STREET</td>\n",
       "      <td>32784</td>\n",
       "    </tr>\n",
       "    <tr>\n",
       "      <th>641</th>\n",
       "      <td>5</td>\n",
       "      <td>STREET</td>\n",
       "      <td>26190</td>\n",
       "    </tr>\n",
       "    <tr>\n",
       "      <th>767</th>\n",
       "      <td>6</td>\n",
       "      <td>STREET</td>\n",
       "      <td>30020</td>\n",
       "    </tr>\n",
       "    <tr>\n",
       "      <th>889</th>\n",
       "      <td>7</td>\n",
       "      <td>STREET</td>\n",
       "      <td>40605</td>\n",
       "    </tr>\n",
       "    <tr>\n",
       "      <th>1008</th>\n",
       "      <td>8</td>\n",
       "      <td>STREET</td>\n",
       "      <td>51340</td>\n",
       "    </tr>\n",
       "    <tr>\n",
       "      <th>1137</th>\n",
       "      <td>9</td>\n",
       "      <td>RESIDENCE</td>\n",
       "      <td>74095</td>\n",
       "    </tr>\n",
       "    <tr>\n",
       "      <th>1262</th>\n",
       "      <td>10</td>\n",
       "      <td>RESIDENCE</td>\n",
       "      <td>60293</td>\n",
       "    </tr>\n",
       "    <tr>\n",
       "      <th>1387</th>\n",
       "      <td>11</td>\n",
       "      <td>STREET</td>\n",
       "      <td>61773</td>\n",
       "    </tr>\n",
       "    <tr>\n",
       "      <th>1510</th>\n",
       "      <td>12</td>\n",
       "      <td>RESIDENCE</td>\n",
       "      <td>81612</td>\n",
       "    </tr>\n",
       "    <tr>\n",
       "      <th>1638</th>\n",
       "      <td>13</td>\n",
       "      <td>STREET</td>\n",
       "      <td>66771</td>\n",
       "    </tr>\n",
       "    <tr>\n",
       "      <th>1766</th>\n",
       "      <td>14</td>\n",
       "      <td>STREET</td>\n",
       "      <td>73448</td>\n",
       "    </tr>\n",
       "    <tr>\n",
       "      <th>1897</th>\n",
       "      <td>15</td>\n",
       "      <td>STREET</td>\n",
       "      <td>79585</td>\n",
       "    </tr>\n",
       "    <tr>\n",
       "      <th>2025</th>\n",
       "      <td>16</td>\n",
       "      <td>STREET</td>\n",
       "      <td>76441</td>\n",
       "    </tr>\n",
       "    <tr>\n",
       "      <th>2152</th>\n",
       "      <td>17</td>\n",
       "      <td>STREET</td>\n",
       "      <td>84223</td>\n",
       "    </tr>\n",
       "    <tr>\n",
       "      <th>2274</th>\n",
       "      <td>18</td>\n",
       "      <td>STREET</td>\n",
       "      <td>99871</td>\n",
       "    </tr>\n",
       "    <tr>\n",
       "      <th>2400</th>\n",
       "      <td>19</td>\n",
       "      <td>STREET</td>\n",
       "      <td>110880</td>\n",
       "    </tr>\n",
       "    <tr>\n",
       "      <th>2523</th>\n",
       "      <td>20</td>\n",
       "      <td>STREET</td>\n",
       "      <td>121049</td>\n",
       "    </tr>\n",
       "    <tr>\n",
       "      <th>2653</th>\n",
       "      <td>21</td>\n",
       "      <td>STREET</td>\n",
       "      <td>125110</td>\n",
       "    </tr>\n",
       "    <tr>\n",
       "      <th>2780</th>\n",
       "      <td>22</td>\n",
       "      <td>STREET</td>\n",
       "      <td>132829</td>\n",
       "    </tr>\n",
       "    <tr>\n",
       "      <th>2905</th>\n",
       "      <td>23</td>\n",
       "      <td>STREET</td>\n",
       "      <td>106154</td>\n",
       "    </tr>\n",
       "  </tbody>\n",
       "</table>\n",
       "</div>"
      ],
      "text/plain": [
       "      time Location Description   Count\n",
       "0        0               STREET  113259\n",
       "128      1               STREET   69150\n",
       "256      2               STREET   56921\n",
       "388      3               STREET   44636\n",
       "517      4               STREET   32784\n",
       "641      5               STREET   26190\n",
       "767      6               STREET   30020\n",
       "889      7               STREET   40605\n",
       "1008     8               STREET   51340\n",
       "1137     9            RESIDENCE   74095\n",
       "1262    10            RESIDENCE   60293\n",
       "1387    11               STREET   61773\n",
       "1510    12            RESIDENCE   81612\n",
       "1638    13               STREET   66771\n",
       "1766    14               STREET   73448\n",
       "1897    15               STREET   79585\n",
       "2025    16               STREET   76441\n",
       "2152    17               STREET   84223\n",
       "2274    18               STREET   99871\n",
       "2400    19               STREET  110880\n",
       "2523    20               STREET  121049\n",
       "2653    21               STREET  125110\n",
       "2780    22               STREET  132829\n",
       "2905    23               STREET  106154"
      ]
     },
     "execution_count": 26,
     "metadata": {},
     "output_type": "execute_result"
    }
   ],
   "source": [
    "timeloc"
   ]
  },
  {
   "cell_type": "code",
   "execution_count": 39,
   "metadata": {},
   "outputs": [
    {
     "data": {
      "text/plain": [
       "STREET                            393297\n",
       "RESIDENCE                         150489\n",
       "OTHER                              82079\n",
       "PARKING LOT/GARAGE(NON.RESID.)     72662\n",
       "DEPARTMENT STORE                   70542\n",
       "Name: Location Description, dtype: int64"
      ]
     },
     "execution_count": 39,
     "metadata": {},
     "output_type": "execute_result"
    }
   ],
   "source": [
    "thefttt = data[data['Primary Type']=='THEFT']\n",
    "thefttt['Location Description'].value_counts().head()"
   ]
  },
  {
   "cell_type": "code",
   "execution_count": null,
   "metadata": {},
   "outputs": [],
   "source": []
  },
  {
   "cell_type": "code",
   "execution_count": null,
   "metadata": {},
   "outputs": [],
   "source": []
  }
 ],
 "metadata": {
  "kernelspec": {
   "display_name": "Python 3",
   "language": "python",
   "name": "python3"
  },
  "language_info": {
   "codemirror_mode": {
    "name": "ipython",
    "version": 3
   },
   "file_extension": ".py",
   "mimetype": "text/x-python",
   "name": "python",
   "nbconvert_exporter": "python",
   "pygments_lexer": "ipython3",
   "version": "3.6.5"
  }
 },
 "nbformat": 4,
 "nbformat_minor": 2
}
